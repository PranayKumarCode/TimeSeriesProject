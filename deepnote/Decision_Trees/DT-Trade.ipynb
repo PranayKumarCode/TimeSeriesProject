{
  "cells": [
    {
      "cell_type": "markdown",
      "source": "# Import Package Dependencies",
      "metadata": {
        "formattedRanges": [],
        "cell_id": "510c8cadb856439ab795f9b922678874",
        "deepnote_cell_type": "text-cell-h1"
      },
      "block_group": "0caffbb39f594bf3b20c6fbd1a4f5567"
    },
    {
      "cell_type": "code",
      "source": "import pandas as pd\nimport numpy as np\nimport xgboost as xgb\nimport matplotlib.pyplot as plt\nimport yfinance as yf\n\nfrom sklearn.utils import shuffle\nfrom sklearn.tree import plot_tree\nfrom sklearn.metrics import mean_squared_error\nfrom sklearn.tree import DecisionTreeRegressor\nfrom xgboost import XGBRegressor",
      "metadata": {
        "source_hash": null,
        "execution_start": 1718910379525,
        "execution_millis": 1222,
        "deepnote_to_be_reexecuted": false,
        "cell_id": "1b383f2732ec41dca613ff1cde18ea9e",
        "deepnote_cell_type": "code"
      },
      "outputs": [],
      "outputs_reference": null,
      "execution_count": null,
      "block_group": "942a15624d8d4abca71a231bf09cf265",
      "content_dependencies": null
    },
    {
      "cell_type": "markdown",
      "source": "# Import Data for Gold Futures",
      "metadata": {
        "formattedRanges": [],
        "cell_id": "a0027ba336dd47a98a3f35b7a6d6b716",
        "deepnote_cell_type": "text-cell-h1"
      },
      "block_group": "d86080e69f9343a4b414287a77c8af6c"
    },
    {
      "cell_type": "code",
      "source": "series = yf.Ticker(\"GC=F\")\nstarting_cash = 100\n\nprices_open = series.history(start='2014-01-01', end='2024-06-15').Open\nprices_close = series.history(start='2014-01-01', end='2024-06-15').Close\n\nreturns_open = prices_open.pct_change().dropna()\nreturns_close = prices_close.pct_change().dropna()",
      "metadata": {
        "source_hash": null,
        "execution_start": 1718910380759,
        "execution_millis": 221,
        "deepnote_to_be_reexecuted": false,
        "cell_id": "eaa35ce148654743a476e6dd01027cd2",
        "deepnote_cell_type": "code"
      },
      "outputs": [],
      "outputs_reference": null,
      "execution_count": null,
      "block_group": "487de7355c9c4ec4805f2e8866ae93a5",
      "content_dependencies": null
    },
    {
      "cell_type": "code",
      "source": "returns = returns_open\nprices = prices_open",
      "metadata": {
        "source_hash": null,
        "execution_start": 1718910380984,
        "execution_millis": 20,
        "deepnote_to_be_reexecuted": false,
        "cell_id": "bb1e3f47f1fa49da95246f36e243b6da",
        "deepnote_cell_type": "code"
      },
      "outputs": [],
      "outputs_reference": null,
      "execution_count": null,
      "block_group": "6540640c009e4d68af72d0277edfb5e1",
      "content_dependencies": null
    },
    {
      "cell_type": "markdown",
      "source": "## Organize Training Data",
      "metadata": {
        "formattedRanges": [],
        "cell_id": "9ed515a1719b4039b18ff33aef5f7e15",
        "deepnote_cell_type": "text-cell-h2"
      },
      "block_group": "6ea5397eaa8f466f83ef24a7d499b586"
    },
    {
      "cell_type": "code",
      "source": "WINDOW_SIZE = 10\n\nX_train = []\ny_train = []\n\nfor i in range(len(returns)-WINDOW_SIZE-9):\n    input_window = returns.iloc[i : i + WINDOW_SIZE]\n    next_return = returns.iloc[i + WINDOW_SIZE]\n\n    X_train.append(input_window)\n    y_train.append(next_return)",
      "metadata": {
        "source_hash": null,
        "execution_start": 1718910381013,
        "execution_millis": 223,
        "deepnote_to_be_reexecuted": false,
        "cell_id": "617f9d91ed9f494db720547e2e262f27",
        "deepnote_cell_type": "code"
      },
      "outputs": [],
      "outputs_reference": null,
      "execution_count": null,
      "block_group": "fd452ce9d2c14562bf6d43d250d102a6",
      "content_dependencies": null
    },
    {
      "cell_type": "markdown",
      "source": "## Organize 2 week Test Window",
      "metadata": {
        "formattedRanges": [],
        "cell_id": "d5143407cdbc436ca03c476ab1f7ae0e",
        "deepnote_cell_type": "text-cell-h2"
      },
      "block_group": "69feb3c315c64bfb88527f44f2cdcbbd"
    },
    {
      "cell_type": "code",
      "source": "X_test = []\n\nfor i in range(10,1,-1):\n  input_window = returns.iloc[-10-i: -i]\n  X_test.append(input_window)",
      "metadata": {
        "source_hash": null,
        "execution_start": 1718910381242,
        "execution_millis": 167,
        "deepnote_to_be_reexecuted": false,
        "cell_id": "90810b87e5104b8d81f7817166424806",
        "deepnote_cell_type": "code"
      },
      "outputs": [],
      "outputs_reference": null,
      "execution_count": null,
      "block_group": "7e70e9020fb642e68a6e952440261cdc",
      "content_dependencies": null
    },
    {
      "cell_type": "code",
      "source": "X_train = X_train[:-1]\ny_train = y_train[:-1]",
      "metadata": {
        "source_hash": null,
        "execution_start": 1718910381260,
        "execution_millis": 578,
        "deepnote_to_be_reexecuted": false,
        "cell_id": "4ab1bf61ff684f9980961ba07f84f254",
        "deepnote_cell_type": "code"
      },
      "outputs": [],
      "outputs_reference": null,
      "execution_count": null,
      "block_group": "ac8de3fa44f74bd38b39016a88181b11",
      "content_dependencies": null
    },
    {
      "cell_type": "code",
      "source": "X_test.append(returns.iloc[-11:-1])",
      "metadata": {
        "source_hash": null,
        "execution_start": 1718910381268,
        "execution_millis": 570,
        "deepnote_to_be_reexecuted": false,
        "cell_id": "37bba19f099743439da3e33c8266fd7d",
        "deepnote_cell_type": "code"
      },
      "outputs": [],
      "outputs_reference": null,
      "execution_count": null,
      "block_group": "adc45865a1ef4bb3ad62e24ea6ca0cf2",
      "content_dependencies": null
    },
    {
      "cell_type": "markdown",
      "source": "# Fit Decision Tree Model on Time Series",
      "metadata": {
        "formattedRanges": [],
        "cell_id": "68e1fa260cf34e5693a90829d9fe9b3c",
        "deepnote_cell_type": "text-cell-h1"
      },
      "block_group": "f6b84ff40e044c36bafbf9524040b9ab"
    },
    {
      "cell_type": "code",
      "source": "model = XGBRegressor()\nmodel.fit(X_train, y_train)",
      "metadata": {
        "source_hash": null,
        "execution_start": 1718910381279,
        "execution_millis": 870,
        "deepnote_to_be_reexecuted": false,
        "cell_id": "8dac2fc007a54b9e9a8788b75437b47e",
        "deepnote_cell_type": "code"
      },
      "outputs": [
        {
          "output_type": "execute_result",
          "execution_count": 8,
          "data": {
            "text/plain": "XGBRegressor(base_score=None, booster=None, callbacks=None,\n             colsample_bylevel=None, colsample_bynode=None,\n             colsample_bytree=None, device=None, early_stopping_rounds=None,\n             enable_categorical=False, eval_metric=None, feature_types=None,\n             gamma=None, grow_policy=None, importance_type=None,\n             interaction_constraints=None, learning_rate=None, max_bin=None,\n             max_cat_threshold=None, max_cat_to_onehot=None,\n             max_delta_step=None, max_depth=None, max_leaves=None,\n             min_child_weight=None, missing=nan, monotone_constraints=None,\n             multi_strategy=None, n_estimators=None, n_jobs=None,\n             num_parallel_tree=None, random_state=None, ...)",
            "text/html": "<style>#sk-container-id-1 {color: black;background-color: white;}#sk-container-id-1 pre{padding: 0;}#sk-container-id-1 div.sk-toggleable {background-color: white;}#sk-container-id-1 label.sk-toggleable__label {cursor: pointer;display: block;width: 100%;margin-bottom: 0;padding: 0.3em;box-sizing: border-box;text-align: center;}#sk-container-id-1 label.sk-toggleable__label-arrow:before {content: \"▸\";float: left;margin-right: 0.25em;color: #696969;}#sk-container-id-1 label.sk-toggleable__label-arrow:hover:before {color: black;}#sk-container-id-1 div.sk-estimator:hover label.sk-toggleable__label-arrow:before {color: black;}#sk-container-id-1 div.sk-toggleable__content {max-height: 0;max-width: 0;overflow: hidden;text-align: left;background-color: #f0f8ff;}#sk-container-id-1 div.sk-toggleable__content pre {margin: 0.2em;color: black;border-radius: 0.25em;background-color: #f0f8ff;}#sk-container-id-1 input.sk-toggleable__control:checked~div.sk-toggleable__content {max-height: 200px;max-width: 100%;overflow: auto;}#sk-container-id-1 input.sk-toggleable__control:checked~label.sk-toggleable__label-arrow:before {content: \"▾\";}#sk-container-id-1 div.sk-estimator input.sk-toggleable__control:checked~label.sk-toggleable__label {background-color: #d4ebff;}#sk-container-id-1 div.sk-label input.sk-toggleable__control:checked~label.sk-toggleable__label {background-color: #d4ebff;}#sk-container-id-1 input.sk-hidden--visually {border: 0;clip: rect(1px 1px 1px 1px);clip: rect(1px, 1px, 1px, 1px);height: 1px;margin: -1px;overflow: hidden;padding: 0;position: absolute;width: 1px;}#sk-container-id-1 div.sk-estimator {font-family: monospace;background-color: #f0f8ff;border: 1px dotted black;border-radius: 0.25em;box-sizing: border-box;margin-bottom: 0.5em;}#sk-container-id-1 div.sk-estimator:hover {background-color: #d4ebff;}#sk-container-id-1 div.sk-parallel-item::after {content: \"\";width: 100%;border-bottom: 1px solid gray;flex-grow: 1;}#sk-container-id-1 div.sk-label:hover label.sk-toggleable__label {background-color: #d4ebff;}#sk-container-id-1 div.sk-serial::before {content: \"\";position: absolute;border-left: 1px solid gray;box-sizing: border-box;top: 0;bottom: 0;left: 50%;z-index: 0;}#sk-container-id-1 div.sk-serial {display: flex;flex-direction: column;align-items: center;background-color: white;padding-right: 0.2em;padding-left: 0.2em;position: relative;}#sk-container-id-1 div.sk-item {position: relative;z-index: 1;}#sk-container-id-1 div.sk-parallel {display: flex;align-items: stretch;justify-content: center;background-color: white;position: relative;}#sk-container-id-1 div.sk-item::before, #sk-container-id-1 div.sk-parallel-item::before {content: \"\";position: absolute;border-left: 1px solid gray;box-sizing: border-box;top: 0;bottom: 0;left: 50%;z-index: -1;}#sk-container-id-1 div.sk-parallel-item {display: flex;flex-direction: column;z-index: 1;position: relative;background-color: white;}#sk-container-id-1 div.sk-parallel-item:first-child::after {align-self: flex-end;width: 50%;}#sk-container-id-1 div.sk-parallel-item:last-child::after {align-self: flex-start;width: 50%;}#sk-container-id-1 div.sk-parallel-item:only-child::after {width: 0;}#sk-container-id-1 div.sk-dashed-wrapped {border: 1px dashed gray;margin: 0 0.4em 0.5em 0.4em;box-sizing: border-box;padding-bottom: 0.4em;background-color: white;}#sk-container-id-1 div.sk-label label {font-family: monospace;font-weight: bold;display: inline-block;line-height: 1.2em;}#sk-container-id-1 div.sk-label-container {text-align: center;}#sk-container-id-1 div.sk-container {/* jupyter's `normalize.less` sets `[hidden] { display: none; }` but bootstrap.min.css set `[hidden] { display: none !important; }` so we also need the `!important` here to be able to override the default hidden behavior on the sphinx rendered scikit-learn.org. See: https://github.com/scikit-learn/scikit-learn/issues/21755 */display: inline-block !important;position: relative;}#sk-container-id-1 div.sk-text-repr-fallback {display: none;}</style><div id=\"sk-container-id-1\" class=\"sk-top-container\"><div class=\"sk-text-repr-fallback\"><pre>XGBRegressor(base_score=None, booster=None, callbacks=None,\n             colsample_bylevel=None, colsample_bynode=None,\n             colsample_bytree=None, device=None, early_stopping_rounds=None,\n             enable_categorical=False, eval_metric=None, feature_types=None,\n             gamma=None, grow_policy=None, importance_type=None,\n             interaction_constraints=None, learning_rate=None, max_bin=None,\n             max_cat_threshold=None, max_cat_to_onehot=None,\n             max_delta_step=None, max_depth=None, max_leaves=None,\n             min_child_weight=None, missing=nan, monotone_constraints=None,\n             multi_strategy=None, n_estimators=None, n_jobs=None,\n             num_parallel_tree=None, random_state=None, ...)</pre><b>In a Jupyter environment, please rerun this cell to show the HTML representation or trust the notebook. <br />On GitHub, the HTML representation is unable to render, please try loading this page with nbviewer.org.</b></div><div class=\"sk-container\" hidden><div class=\"sk-item\"><div class=\"sk-estimator sk-toggleable\"><input class=\"sk-toggleable__control sk-hidden--visually\" id=\"sk-estimator-id-1\" type=\"checkbox\" checked><label for=\"sk-estimator-id-1\" class=\"sk-toggleable__label sk-toggleable__label-arrow\">XGBRegressor</label><div class=\"sk-toggleable__content\"><pre>XGBRegressor(base_score=None, booster=None, callbacks=None,\n             colsample_bylevel=None, colsample_bynode=None,\n             colsample_bytree=None, device=None, early_stopping_rounds=None,\n             enable_categorical=False, eval_metric=None, feature_types=None,\n             gamma=None, grow_policy=None, importance_type=None,\n             interaction_constraints=None, learning_rate=None, max_bin=None,\n             max_cat_threshold=None, max_cat_to_onehot=None,\n             max_delta_step=None, max_depth=None, max_leaves=None,\n             min_child_weight=None, missing=nan, monotone_constraints=None,\n             multi_strategy=None, n_estimators=None, n_jobs=None,\n             num_parallel_tree=None, random_state=None, ...)</pre></div></div></div></div></div>"
          },
          "metadata": {}
        }
      ],
      "outputs_reference": null,
      "execution_count": null,
      "block_group": "1db6a4ce22c04ade90da608486a1b91b",
      "content_dependencies": null
    },
    {
      "cell_type": "markdown",
      "source": "## Predict Over 2 Week Trading Period",
      "metadata": {
        "formattedRanges": [],
        "cell_id": "a06e1777f3ca47aa8ad87bc5fb84de81",
        "deepnote_cell_type": "text-cell-h2"
      },
      "block_group": "aaf62262c26e4629a59569ce6cf57b53"
    },
    {
      "cell_type": "code",
      "source": "predictions = returns[-len(X_test):].copy()\nfor i in range(len(X_test)):\n    X_test_df = pd.DataFrame([X_test[i]])\n    predicted_value = model.predict(X_test_df)[0]\n    date_index = predictions.index[i]\n    predictions.at[date_index] = predicted_value",
      "metadata": {
        "source_hash": null,
        "execution_start": 1718910382152,
        "execution_millis": 526,
        "deepnote_to_be_reexecuted": false,
        "cell_id": "3dddcb1cce254285a6fb32b16c4990c2",
        "deepnote_cell_type": "code"
      },
      "outputs": [],
      "outputs_reference": null,
      "execution_count": null,
      "block_group": "fbfa734ed50b471a8a98d8f0b2e542b7",
      "content_dependencies": null
    },
    {
      "cell_type": "code",
      "source": "print(predictions)",
      "metadata": {
        "source_hash": null,
        "execution_start": 1718910382153,
        "execution_millis": 525,
        "deepnote_to_be_reexecuted": false,
        "cell_id": "d2f24417bd404b15afd227d1f62b9104",
        "deepnote_cell_type": "code"
      },
      "outputs": [
        {
          "name": "stdout",
          "text": "Date\n2024-06-03 00:00:00-04:00    0.000732\n2024-06-04 00:00:00-04:00   -0.003518\n2024-06-05 00:00:00-04:00    0.006437\n2024-06-06 00:00:00-04:00    0.007772\n2024-06-07 00:00:00-04:00   -0.004649\n2024-06-10 00:00:00-04:00    0.004544\n2024-06-11 00:00:00-04:00   -0.005587\n2024-06-12 00:00:00-04:00   -0.000858\n2024-06-13 00:00:00-04:00    0.009739\n2024-06-14 00:00:00-04:00    0.007578\nName: Open, dtype: float64\n",
          "output_type": "stream"
        }
      ],
      "outputs_reference": null,
      "execution_count": null,
      "block_group": "712cdace883040fbbaf3e490c1e81241",
      "content_dependencies": null
    },
    {
      "cell_type": "code",
      "source": "trading_period = prices.iloc[-11:]\nprint(trading_period)",
      "metadata": {
        "source_hash": null,
        "execution_start": 1718910382154,
        "execution_millis": 524,
        "deepnote_to_be_reexecuted": false,
        "cell_id": "08eb1c64e4b045a5961acee6c06df763",
        "deepnote_cell_type": "code"
      },
      "outputs": [
        {
          "name": "stdout",
          "text": "Date\n2024-05-31 00:00:00-04:00    2344.100098\n2024-06-03 00:00:00-04:00    2322.600098\n2024-06-04 00:00:00-04:00    2347.500000\n2024-06-05 00:00:00-04:00    2326.399902\n2024-06-06 00:00:00-04:00    2355.000000\n2024-06-07 00:00:00-04:00    2379.899902\n2024-06-10 00:00:00-04:00    2290.600098\n2024-06-11 00:00:00-04:00    2300.000000\n2024-06-12 00:00:00-04:00    2314.899902\n2024-06-13 00:00:00-04:00    2309.399902\n2024-06-14 00:00:00-04:00    2307.000000\nName: Open, dtype: float64\n",
          "output_type": "stream"
        }
      ],
      "outputs_reference": null,
      "execution_count": null,
      "block_group": "f59d16c29dec4c0484785bb6b6c7c7e6",
      "content_dependencies": null
    },
    {
      "cell_type": "markdown",
      "source": "# Buy at Open, Sell at Close if Predicted Returns",
      "metadata": {
        "formattedRanges": [],
        "cell_id": "52f9e6d325b24672bbf4450e489f6226",
        "deepnote_cell_type": "text-cell-h1"
      },
      "block_group": "43a28c1f30634b39a8e189358077eeaa"
    },
    {
      "cell_type": "code",
      "source": "def BuySellModelPredict(starting_cash):\n    prices = trading_period\n    revenue = np.zeros(len(predictions))\n    cash = starting_cash\n    cash_used = 0\n    shares = 0\n    holding = False\n\n    for i in range (1, len(predictions)):\n        if predictions[i-1] > 0:\n            shares = starting_cash / prices[i-1]\n            cash = shares * prices[i]\n            cash_used += starting_cash\n            revenue[i] = cash - starting_cash\n            holding = True\n\n        print(f\"Day {i}: \\n Daily Open = {prices[i-1]},  \\n Daily Close = {prices[i]},  \\n Cash = {cash}, \\n Shares = {shares}, \\n Prediction = {predictions[i-1]}, \\n Daily Revenue = {revenue[i]}, \\n\")\n\n    if holding:\n        cash = shares * prices[-1]\n        revenue[-1] = cash - starting_cash\n        print(f\"Day {i+1}: Forced Sell: Close = {prices[-1]}, Cash = {cash}, Revenue = {revenue[-1]}\")\n\n    #   plt.figure(figsize=(10, 4))\n    #   plt.plot(revenue)\n    #   plt.ylabel('Revenue', fontsize=20)\n    #   plt.xlabel('Hour', fontsize=20)\n    #   plt.title('Revenue Over Time', fontsize=20)\n    #   plt.show()\n\n    plt.figure(figsize=(10, 4))\n    days = range(len(revenue))\n    plt.scatter(days, revenue, color='blue', label='Revenue')\n    plt.plot(days, revenue, color='blue')\n    plt.ylabel('Revenue', fontsize=20)\n    plt.xlabel('Day', fontsize=20)\n    plt.title('Revenue Over Time', fontsize=20)\n    plt.legend()\n\n    # Set x-axis ticks at intervals of 24\n    xticks = range(0, len(revenue), 24)\n    plt.xticks(xticks)\n\n    # Annotate each point with the revenue value\n    for day, rev in zip(days, revenue):\n        plt.text(day, rev, f'{round(rev, 2)}', fontsize=7, ha='left', va='bottom')\n\n    plt.show()\n    total_revenue = 0\n    for i in range(len(revenue)):\n        total_revenue += revenue[i]\n    print('Cash Used: ', cash_used)\n    return total_revenue",
      "metadata": {
        "source_hash": null,
        "execution_start": 1718910382154,
        "execution_millis": 525,
        "deepnote_to_be_reexecuted": false,
        "cell_id": "d256e238025c44b69d4abc0891c2998b",
        "deepnote_cell_type": "code"
      },
      "outputs": [],
      "outputs_reference": null,
      "execution_count": null,
      "block_group": "daab7a10f9614162a65eb05c442a574f",
      "content_dependencies": null
    },
    {
      "cell_type": "code",
      "source": "BuySellModelPredict(starting_cash)",
      "metadata": {
        "source_hash": null,
        "execution_start": 1718910382155,
        "execution_millis": 524,
        "deepnote_to_be_reexecuted": false,
        "cell_id": "70425d4d84bd43689bcb68567ca41135",
        "deepnote_cell_type": "code"
      },
      "outputs": [
        {
          "name": "stdout",
          "text": "Day 1: \n Daily Open = 2344.10009765625,  \n Daily Close = 2322.60009765625,  \n Cash = 99.08280367286804, \n Shares = 0.04266029428520782, \n Prediction = 0.0007317010313272476, \n Daily Revenue = -0.9171963271319612, \n\nDay 2: \n Daily Open = 2322.60009765625,  \n Daily Close = 2347.5,  \n Cash = 99.08280367286804, \n Shares = 0.04266029428520782, \n Prediction = -0.0035179771948605776, \n Daily Revenue = 0.0, \n\nDay 3: \n Daily Open = 2347.5,  \n Daily Close = 2326.39990234375,  \n Cash = 99.10116729898829, \n Shares = 0.042598509052183174, \n Prediction = 0.006436728406697512, \n Daily Revenue = -0.8988327010117132, \n\nDay 4: \n Daily Open = 2326.39990234375,  \n Daily Close = 2355.0,  \n Cash = 101.2293715120705, \n Shares = 0.04298487113039087, \n Prediction = 0.007772244047373533, \n Daily Revenue = 1.2293715120705002, \n\nDay 5: \n Daily Open = 2355.0,  \n Daily Close = 2379.89990234375,  \n Cash = 101.2293715120705, \n Shares = 0.04298487113039087, \n Prediction = -0.004648670554161072, \n Daily Revenue = 0.0, \n\nDay 6: \n Daily Open = 2379.89990234375,  \n Daily Close = 2290.60009765625,  \n Cash = 96.2477495545272, \n Shares = 0.0420185739330965, \n Prediction = 0.004544485826045275, \n Daily Revenue = -3.7522504454727965, \n\nDay 7: \n Daily Open = 2290.60009765625,  \n Daily Close = 2300.0,  \n Cash = 96.2477495545272, \n Shares = 0.0420185739330965, \n Prediction = -0.0055873640812933445, \n Daily Revenue = 0.0, \n\nDay 8: \n Daily Open = 2300.0,  \n Daily Close = 2314.89990234375,  \n Cash = 96.2477495545272, \n Shares = 0.0420185739330965, \n Prediction = -0.0008576029213145375, \n Daily Revenue = 0.0, \n\nDay 9: \n Daily Open = 2314.89990234375,  \n Daily Close = 2309.39990234375,  \n Cash = 99.76240873333522, \n Shares = 0.04319841212086696, \n Prediction = 0.00973932072520256, \n Daily Revenue = -0.23759126666477925, \n\nDay 10: Forced Sell: Close = 2307.0, Cash = 99.65873676284008, Revenue = -0.3412632371599216\n/tmp/ipykernel_633/1608161040.py:10: FutureWarning: Series.__getitem__ treating keys as positions is deprecated. In a future version, integer keys will always be treated as labels (consistent with DataFrame behavior). To access a value by position, use `ser.iloc[pos]`\n  if predictions[i-1] > 0:\n/tmp/ipykernel_633/1608161040.py:11: FutureWarning: Series.__getitem__ treating keys as positions is deprecated. In a future version, integer keys will always be treated as labels (consistent with DataFrame behavior). To access a value by position, use `ser.iloc[pos]`\n  shares = starting_cash / prices[i-1]\n/tmp/ipykernel_633/1608161040.py:12: FutureWarning: Series.__getitem__ treating keys as positions is deprecated. In a future version, integer keys will always be treated as labels (consistent with DataFrame behavior). To access a value by position, use `ser.iloc[pos]`\n  cash = shares * prices[i]\n/tmp/ipykernel_633/1608161040.py:17: FutureWarning: Series.__getitem__ treating keys as positions is deprecated. In a future version, integer keys will always be treated as labels (consistent with DataFrame behavior). To access a value by position, use `ser.iloc[pos]`\n  print(f\"Day {i}: \\n Daily Open = {prices[i-1]},  \\n Daily Close = {prices[i]},  \\n Cash = {cash}, \\n Shares = {shares}, \\n Prediction = {predictions[i-1]}, \\n Daily Revenue = {revenue[i]}, \\n\")\n/tmp/ipykernel_633/1608161040.py:20: FutureWarning: Series.__getitem__ treating keys as positions is deprecated. In a future version, integer keys will always be treated as labels (consistent with DataFrame behavior). To access a value by position, use `ser.iloc[pos]`\n  cash = shares * prices[-1]\n/tmp/ipykernel_633/1608161040.py:22: FutureWarning: Series.__getitem__ treating keys as positions is deprecated. In a future version, integer keys will always be treated as labels (consistent with DataFrame behavior). To access a value by position, use `ser.iloc[pos]`\n  print(f\"Day {i+1}: Forced Sell: Close = {prices[-1]}, Cash = {cash}, Revenue = {revenue[-1]}\")\n",
          "output_type": "stream"
        },
        {
          "data": {
            "text/plain": "<Figure size 1000x400 with 1 Axes>",
            "image/png": "[encoded data removed]"
          },
          "metadata": {
            "image/png": {
              "width": 858,
              "height": 415
            }
          },
          "output_type": "display_data"
        },
        {
          "name": "stdout",
          "text": "Cash Used:  500\n",
          "output_type": "stream"
        },
        {
          "output_type": "execute_result",
          "execution_count": 13,
          "data": {
            "text/plain": "-4.680171198705892"
          },
          "metadata": {}
        }
      ],
      "outputs_reference": null,
      "execution_count": null,
      "block_group": "37f717c1d0cf4202876bb44dc1bbed1c",
      "content_dependencies": null
    },
    {
      "cell_type": "code",
      "source": "",
      "metadata": {
        "source_hash": null,
        "execution_start": 1718910382272,
        "execution_millis": 672,
        "deepnote_to_be_reexecuted": false,
        "cell_id": "686de998c84441eb9bb33946fbfed157",
        "deepnote_cell_type": "code"
      },
      "outputs": [],
      "outputs_reference": null,
      "execution_count": null,
      "block_group": "89cecc2f4a87420aab03baa2bff11be1",
      "content_dependencies": null
    },
    {
      "cell_type": "code",
      "source": "",
      "metadata": {
        "source_hash": null,
        "execution_start": 1718910382272,
        "execution_millis": 673,
        "deepnote_to_be_reexecuted": false,
        "cell_id": "bc52a0749852402b8e71a60eecc89b0b",
        "deepnote_cell_type": "code"
      },
      "outputs": [],
      "outputs_reference": null,
      "execution_count": null,
      "block_group": "02c59d9ee95c49c796705d6b82be751a",
      "content_dependencies": null
    },
    {
      "cell_type": "markdown",
      "source": "<a style='text-decoration:none;line-height:16px;display:flex;color:#5B5B62;padding:10px;justify-content:end;' href='https://deepnote.com?utm_source=created-in-deepnote-cell&projectId=e3634c31-dd75-469c-bb95-8fb37ebd73a7' target=\"_blank\">\n<img alt='Created in deepnote.com' style='display:inline;max-height:16px;margin:0px;margin-right:7.5px;' src='data:image/svg+xml;base64,PD94bWwgdmVyc2lvbj0iMS4wIiBlbmNvZGluZz0iVVRGLTgiPz4KPHN2ZyB3aWR0aD0iODBweCIgaGVpZ2h0PSI4MHB4IiB2aWV3Qm94PSIwIDAgODAgODAiIHZlcnNpb249IjEuMSIgeG1sbnM9Imh0dHA6Ly93d3cudzMub3JnLzIwMDAvc3ZnIiB4bWxuczp4bGluaz0iaHR0cDovL3d3dy53My5vcmcvMTk5OS94bGluayI+CiAgICA8IS0tIEdlbmVyYXRvcjogU2tldGNoIDU0LjEgKDc2NDkwKSAtIGh0dHBzOi8vc2tldGNoYXBwLmNvbSAtLT4KICAgIDx0aXRsZT5Hcm91cCAzPC90aXRsZT4KICAgIDxkZXNjPkNyZWF0ZWQgd2l0aCBTa2V0Y2guPC9kZXNjPgogICAgPGcgaWQ9IkxhbmRpbmciIHN0cm9rZT0ibm9uZSIgc3Ryb2tlLXdpZHRoPSIxIiBmaWxsPSJub25lIiBmaWxsLXJ1bGU9ImV2ZW5vZGQiPgogICAgICAgIDxnIGlkPSJBcnRib2FyZCIgdHJhbnNmb3JtPSJ0cmFuc2xhdGUoLTEyMzUuMDAwMDAwLCAtNzkuMDAwMDAwKSI+CiAgICAgICAgICAgIDxnIGlkPSJHcm91cC0zIiB0cmFuc2Zvcm09InRyYW5zbGF0ZSgxMjM1LjAwMDAwMCwgNzkuMDAwMDAwKSI+CiAgICAgICAgICAgICAgICA8cG9seWdvbiBpZD0iUGF0aC0yMCIgZmlsbD0iIzAyNjVCNCIgcG9pbnRzPSIyLjM3NjIzNzYyIDgwIDM4LjA0NzY2NjcgODAgNTcuODIxNzgyMiA3My44MDU3NTkyIDU3LjgyMTc4MjIgMzIuNzU5MjczOSAzOS4xNDAyMjc4IDMxLjY4MzE2ODMiPjwvcG9seWdvbj4KICAgICAgICAgICAgICAgIDxwYXRoIGQ9Ik0zNS4wMDc3MTgsODAgQzQyLjkwNjIwMDcsNzYuNDU0OTM1OCA0Ny41NjQ5MTY3LDcxLjU0MjI2NzEgNDguOTgzODY2LDY1LjI2MTk5MzkgQzUxLjExMjI4OTksNTUuODQxNTg0MiA0MS42NzcxNzk1LDQ5LjIxMjIyODQgMjUuNjIzOTg0Niw0OS4yMTIyMjg0IEMyNS40ODQ5Mjg5LDQ5LjEyNjg0NDggMjkuODI2MTI5Niw0My4yODM4MjQ4IDM4LjY0NzU4NjksMzEuNjgzMTY4MyBMNzIuODcxMjg3MSwzMi41NTQ0MjUgTDY1LjI4MDk3Myw2Ny42NzYzNDIxIEw1MS4xMTIyODk5LDc3LjM3NjE0NCBMMzUuMDA3NzE4LDgwIFoiIGlkPSJQYXRoLTIyIiBmaWxsPSIjMDAyODY4Ij48L3BhdGg+CiAgICAgICAgICAgICAgICA8cGF0aCBkPSJNMCwzNy43MzA0NDA1IEwyNy4xMTQ1MzcsMC4yNTcxMTE0MzYgQzYyLjM3MTUxMjMsLTEuOTkwNzE3MDEgODAsMTAuNTAwMzkyNyA4MCwzNy43MzA0NDA1IEM4MCw2NC45NjA0ODgyIDY0Ljc3NjUwMzgsNzkuMDUwMzQxNCAzNC4zMjk1MTEzLDgwIEM0Ny4wNTUzNDg5LDc3LjU2NzA4MDggNTMuNDE4MjY3Nyw3MC4zMTM2MTAzIDUzLjQxODI2NzcsNTguMjM5NTg4NSBDNTMuNDE4MjY3Nyw0MC4xMjg1NTU3IDM2LjMwMzk1NDQsMzcuNzMwNDQwNSAyNS4yMjc0MTcsMzcuNzMwNDQwNSBDMTcuODQzMDU4NiwzNy43MzA0NDA1IDkuNDMzOTE5NjYsMzcuNzMwNDQwNSAwLDM3LjczMDQ0MDUgWiIgaWQ9IlBhdGgtMTkiIGZpbGw9IiMzNzkzRUYiPjwvcGF0aD4KICAgICAgICAgICAgPC9nPgogICAgICAgIDwvZz4KICAgIDwvZz4KPC9zdmc+' > </img>\nCreated in <span style='font-weight:600;margin-left:4px;'>Deepnote</span></a>",
      "metadata": {
        "created_in_deepnote_cell": true,
        "deepnote_cell_type": "markdown"
      }
    }
  ],
  "nbformat": 4,
  "nbformat_minor": 0,
  "metadata": {
    "deepnote_persisted_session": {
      "createdAt": "2024-06-20T19:30:53.016Z"
    },
    "deepnote_notebook_id": "85dd28c712e746afa070cd6724a9dece",
    "deepnote_execution_queue": []
  }
}