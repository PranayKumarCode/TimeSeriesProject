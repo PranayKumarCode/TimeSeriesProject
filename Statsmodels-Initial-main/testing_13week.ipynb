{
 "cells": [
  {
   "cell_type": "code",
   "execution_count": null,
   "metadata": {},
   "outputs": [],
   "source": [
    "import pandas as pd\n",
    "import numpy as np\n",
    "import matplotlib.pyplot as plt\n",
    "\n",
    "from statsmodels.tsa.statespace.sarimax import SARIMAX\n",
    "from statsmodels.tsa.arima.model import ARIMA\n",
    "from statsmodels.graphics.tsaplots import plot_acf, plot_pacf\n",
    "from statsmodels.tsa.stattools import adfuller"
   ]
  },
  {
   "cell_type": "markdown",
   "metadata": {},
   "source": [
    "### Read data from csv"
   ]
  },
  {
   "cell_type": "code",
   "execution_count": null,
   "metadata": {},
   "outputs": [],
   "source": [
    "# Load your time series data\n",
    "data = pd.read_csv('13 Week Treasury Bill.csv', usecols=[0, 1, 2])\n",
    "\n",
    "# Reformat Dates as indices\n",
    "data['Date'] = pd.to_datetime(data['Date'])\n",
    "data.set_index('Date', inplace=True)"
   ]
  },
  {
   "cell_type": "markdown",
   "metadata": {},
   "source": [
    "### Take average prices"
   ]
  },
  {
   "cell_type": "code",
   "execution_count": null,
   "metadata": {},
   "outputs": [],
   "source": [
    "# Take average of High and Low prices\n",
    "data['Average'] = (data['High'] + data['Low']) / 2\n",
    "\n",
    "# Separate training and test data\n",
    "y_train = data[:5000]\n",
    "y_test = data[5000:]\n",
    "\n",
    "print(data)"
   ]
  },
  {
   "cell_type": "code",
   "execution_count": null,
   "metadata": {},
   "outputs": [],
   "source": [
    "# Plot average of data\n",
    "plt.figure(figsize=(12,8))\n",
    "plt.plot(y_train['Average'], label='Training Data', color='blue')\n",
    "plt.plot(y_test['Average'], label='Test Data', color='red')\n",
    "plt.title(\"13 Week Treasury Bill Yield Rates\")\n",
    "plt.ylabel(\"Rates as Percentages\")\n",
    "plt.xlabel(\"Year\")\n",
    "plt.legend()\n",
    "plt.show()"
   ]
  },
  {
   "cell_type": "markdown",
   "metadata": {},
   "source": [
    "### Run statistical tests for data preprocessing"
   ]
  },
  {
   "cell_type": "code",
   "execution_count": null,
   "metadata": {},
   "outputs": [],
   "source": [
    "ADF_result = adfuller(y_train['Average'])\n",
    "print('ADF Statistic: %f' % ADF_result[0])\n",
    "print('p-value: %f' % ADF_result[1])"
   ]
  },
  {
   "cell_type": "markdown",
   "metadata": {},
   "source": [
    "Data is non-stationary, indicated by a high p-value"
   ]
  },
  {
   "cell_type": "code",
   "execution_count": null,
   "metadata": {},
   "outputs": [],
   "source": [
    "# Apply first-order differencing to remove non-stationarity\n",
    "first_diff = y_train['Average'].diff()[1:]\n",
    "plt.figure(figsize=(12,6))\n",
    "plt.plot(first_diff, label='First-Order Differenced Data', color='blue')\n",
    "plt.show()"
   ]
  },
  {
   "cell_type": "markdown",
   "metadata": {},
   "source": [
    "### Run ACF and PACF for lag correlation"
   ]
  },
  {
   "cell_type": "code",
   "execution_count": null,
   "metadata": {},
   "outputs": [],
   "source": [
    "acf_plot = plot_acf(first_diff, lags=25)"
   ]
  },
  {
   "cell_type": "code",
   "execution_count": null,
   "metadata": {},
   "outputs": [],
   "source": [
    "pacf_plot = plot_pacf(first_diff)"
   ]
  },
  {
   "cell_type": "markdown",
   "metadata": {},
   "source": [
    "### Fit ARIMA(p,q) model"
   ]
  },
  {
   "cell_type": "code",
   "execution_count": null,
   "metadata": {},
   "outputs": [],
   "source": [
    "my_order = (1,0,2)"
   ]
  },
  {
   "cell_type": "code",
   "execution_count": null,
   "metadata": {},
   "outputs": [],
   "source": [
    "# Fit the ARIMA model\n",
    "model = ARIMA(y_train['Average'], order=my_order)\n",
    "results = model.fit()\n",
    "print(results.summary())"
   ]
  },
  {
   "cell_type": "markdown",
   "metadata": {},
   "source": [
    "### Use model to predict on test time series"
   ]
  },
  {
   "cell_type": "code",
   "execution_count": null,
   "metadata": {},
   "outputs": [],
   "source": [
    "# Forecast predictions from ARIMA model\n",
    "predictions = results.forecast(len(y_test))\n",
    "predictions.index = y_test.index\n",
    "predictions = pd.Series(predictions, index=y_test.index)\n",
    "residuals = y_test['Average'] - predictions"
   ]
  },
  {
   "cell_type": "code",
   "execution_count": null,
   "metadata": {},
   "outputs": [],
   "source": [
    "# Plot residuals\n",
    "plt.figure(figsize=(12,6))\n",
    "plt.plot(residuals)\n",
    "plt.axhline(0, linestyle='--', color='k')\n",
    "plt.title('Residuals from SARIMA Model', fontsize=20)\n",
    "plt.ylabel('Error', fontsize=16)\n",
    "plt.show()"
   ]
  },
  {
   "cell_type": "code",
   "execution_count": null,
   "metadata": {},
   "outputs": [],
   "source": [
    "# Plot predictions vs Actual Data\n",
    "plt.figure(figsize=(12,6))\n",
    "plt.plot(data['Average'], label='Data', color='blue')\n",
    "plt.plot(predictions, label='Predictions', color='red')\n",
    "plt.legend()\n",
    "plt.show()"
   ]
  },
  {
   "cell_type": "markdown",
   "metadata": {},
   "source": [
    "### Visualize predictions"
   ]
  },
  {
   "cell_type": "code",
   "execution_count": null,
   "metadata": {},
   "outputs": [],
   "source": [
    "print(predictions)"
   ]
  },
  {
   "cell_type": "code",
   "execution_count": null,
   "metadata": {},
   "outputs": [],
   "source": [
    "plt.figure(figsize=(12,6))\n",
    "plt.plot(predictions, label='Predictions', color='red')\n",
    "plt.legend()\n",
    "plt.show()"
   ]
  },
  {
   "cell_type": "code",
   "execution_count": null,
   "metadata": {},
   "outputs": [],
   "source": []
  }
 ],
 "metadata": {
  "kernelspec": {
   "display_name": "use_this_env",
   "language": "python",
   "name": "python3"
  },
  "language_info": {
   "codemirror_mode": {
    "name": "ipython",
    "version": 3
   },
   "file_extension": ".py",
   "mimetype": "text/x-python",
   "name": "python",
   "nbconvert_exporter": "python",
   "pygments_lexer": "ipython3",
   "version": "3.11.5"
  }
 },
 "nbformat": 4,
 "nbformat_minor": 2
}
