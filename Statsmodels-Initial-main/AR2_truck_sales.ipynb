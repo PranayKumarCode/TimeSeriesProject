{
 "cells": [
  {
   "cell_type": "code",
   "execution_count": null,
   "metadata": {},
   "outputs": [],
   "source": [
    "import statsmodels\n",
    "import pandas as pd\n",
    "import numpy as np\n",
    "import matplotlib.pyplot as plt\n",
    "\n",
    "from statsmodels.tsa.stattools import adfuller\n",
    "from statsmodels.tsa.arima.model import ARIMA\n",
    "from statsmodels.graphics.tsaplots import plot_acf, plot_pacf"
   ]
  },
  {
   "cell_type": "code",
   "execution_count": null,
   "metadata": {},
   "outputs": [],
   "source": [
    "data = pd.read_csv('Truck_sales.csv', usecols=[1])\n",
    "data_array = data.to_numpy().flatten()\n",
    "print(data_array)"
   ]
  },
  {
   "cell_type": "code",
   "execution_count": null,
   "metadata": {},
   "outputs": [],
   "source": [
    "graph_data = data_array.copy()\n",
    "plt.plot(data_array)\n",
    "plt.xticks([0, 12, 24, 36, 48, 60, 72, 84, 96, 108, 120, 132, 144])\n",
    "plt.show()"
   ]
  },
  {
   "cell_type": "markdown",
   "metadata": {},
   "source": [
    "### Make data non-seasonal\n",
    "Remove Seasonality:\n",
    "$z_t = y_t - y_{t-12}$"
   ]
  },
  {
   "cell_type": "code",
   "execution_count": null,
   "metadata": {},
   "outputs": [],
   "source": [
    "nonseasonal_data = data.diff(-12)\n",
    "nonseasonal_data = nonseasonal_data.dropna()\n",
    "nonseasonaldata_array = nonseasonal_data.to_numpy().flatten()\n",
    "print(nonseasonaldata_array)"
   ]
  },
  {
   "cell_type": "code",
   "execution_count": null,
   "metadata": {},
   "outputs": [],
   "source": [
    "graph_nonseasonaldata = nonseasonaldata_array.copy()\n",
    "plt.plot(nonseasonaldata_array)\n",
    "plt.xticks([0, 12, 24, 36, 48, 60, 72, 84, 96, 108, 120, 132, 144])\n",
    "plt.show()"
   ]
  },
  {
   "cell_type": "markdown",
   "metadata": {},
   "source": [
    "### Check for white noise\n",
    "i) $\\mu = 0$\n",
    "\n",
    "ii) $\\sigma^2$ is constant\n",
    "\n",
    "iii) correlation between lags is 0"
   ]
  },
  {
   "cell_type": "code",
   "execution_count": null,
   "metadata": {},
   "outputs": [],
   "source": [
    "# Augmented Dickey-Fuller Test for non-stationarity\n",
    "\n",
    "# result = adfuller(nonseasonal_data)\n",
    "# print('ADF Statistic: %f' % result[0])\n",
    "# print('p-value: %f' % result[1])"
   ]
  },
  {
   "cell_type": "code",
   "execution_count": null,
   "metadata": {},
   "outputs": [],
   "source": [
    "# Check mean\n",
    "mean = np.average(nonseasonal_data)\n",
    "print(\"Mean: %f\" % mean)\n",
    "\n",
    "print('Not white noise.')"
   ]
  },
  {
   "cell_type": "markdown",
   "metadata": {},
   "source": [
    "### $\\sigma$ and $\\mu$ is constant by inspection"
   ]
  },
  {
   "cell_type": "markdown",
   "metadata": {},
   "source": [
    "### Run ACF and PACF"
   ]
  },
  {
   "cell_type": "code",
   "execution_count": null,
   "metadata": {},
   "outputs": [],
   "source": [
    "acf_plot = plot_acf(nonseasonal_data, lags=131)"
   ]
  },
  {
   "cell_type": "code",
   "execution_count": null,
   "metadata": {},
   "outputs": [],
   "source": [
    "pacf_plot = plot_pacf(nonseasonal_data)"
   ]
  },
  {
   "cell_type": "markdown",
   "metadata": {},
   "source": [
    "### Fit ARIMA(3,3,0) model to data"
   ]
  },
  {
   "cell_type": "code",
   "execution_count": null,
   "metadata": {},
   "outputs": [],
   "source": [
    "model = ARIMA(nonseasonal_data, order=(2,0,0))\n",
    "results = model.fit()\n",
    "print(results.summary())"
   ]
  },
  {
   "cell_type": "markdown",
   "metadata": {},
   "source": [
    "### Predict future prices from ARIMA(3,3,0)"
   ]
  },
  {
   "cell_type": "code",
   "execution_count": null,
   "metadata": {},
   "outputs": [],
   "source": [
    "predictions = results.predict(start=132, end=144, dynamic=False, signal_only=False, information_set='predicted')"
   ]
  },
  {
   "cell_type": "code",
   "execution_count": null,
   "metadata": {},
   "outputs": [],
   "source": [
    "predictions = predictions.to_numpy()\n",
    "print(predictions)"
   ]
  },
  {
   "cell_type": "code",
   "execution_count": null,
   "metadata": {},
   "outputs": [],
   "source": [
    "# Unnormalize our predictions\n",
    "\n",
    "unnorm_predictions = predictions\n",
    "for i in range(len(predictions)-1):\n",
    "    unnorm_predictions[i] += nonseasonaldata_array[120+i]\n"
   ]
  },
  {
   "cell_type": "code",
   "execution_count": null,
   "metadata": {},
   "outputs": [],
   "source": [
    "plt.figure(figsize=(12,6))\n",
    "plt.plot(graph_data, label='Data', color='blue')\n",
    "plt.plot(range(132, 144), unnorm_predictions[:12], label='Predictions', color='red')\n",
    "plt.xticks([12, 24, 36, 48, 60, 72, 84, 96, 108, 120, 132, 144])\n",
    "plt.legend()\n",
    "plt.show()"
   ]
  },
  {
   "cell_type": "code",
   "execution_count": null,
   "metadata": {},
   "outputs": [],
   "source": []
  }
 ],
 "metadata": {
  "kernelspec": {
   "display_name": "use_this_env",
   "language": "python",
   "name": "python3"
  },
  "language_info": {
   "codemirror_mode": {
    "name": "ipython",
    "version": 3
   },
   "file_extension": ".py",
   "mimetype": "text/x-python",
   "name": "python",
   "nbconvert_exporter": "python",
   "pygments_lexer": "ipython3",
   "version": "3.11.5"
  }
 },
 "nbformat": 4,
 "nbformat_minor": 2
}
